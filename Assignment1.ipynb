{
 "cells": [
  {
   "cell_type": "code",
   "execution_count": 2,
   "id": "9ee13355-941f-42b7-b12d-fba7a16e127a",
   "metadata": {},
   "outputs": [
    {
     "name": "stdout",
     "output_type": "stream",
     "text": [
      "NAME:Jay Sharma\n",
      "BATCH:B5\n",
      "SAP ID:590018688\n",
      "I am using Python version 3.12.2 (tags/v3.12.2:6abddd9, Feb  6 2024, 21:26:36) [MSC v.1937 64 bit (AMD64)].\n"
     ]
    }
   ],
   "source": [
    "# Get the Python version\n",
    "import sys\n",
    "python_version = sys.version\n",
    "print(\"NAME:Jay Sharma\\nBATCH:B5\\nSAP ID:590018688\")\n",
    "print(f\"I am using Python version {python_version}.\")\n"
   ]
  },
  {
   "cell_type": "code",
   "execution_count": 1,
   "id": "8c8f2bb7-adf2-408a-90c8-1e9ce5d5c54a",
   "metadata": {},
   "outputs": [],
   "source": [
    "#2\n",
    "#Write a Python program that takes a user's first and last name as input and \n",
    "#prints them in reverse order with a space between them."
   ]
  },
  {
   "cell_type": "code",
   "execution_count": 2,
   "id": "aaec1d82-cf33-475e-afac-ffbeef2426c9",
   "metadata": {},
   "outputs": [
    {
     "name": "stdin",
     "output_type": "stream",
     "text": [
      "enter the first name  Jay\n",
      "enter the second name  Sharma\n"
     ]
    },
    {
     "name": "stdout",
     "output_type": "stream",
     "text": [
      "amrahS yaJ\n"
     ]
    }
   ],
   "source": [
    "#Storing input from user in str1 and str2\n",
    "str1=input(\"enter the first name \")\n",
    "str2=input(\"enter the second name \")\n",
    "\n",
    "#Using slicing to reverse the input string\n",
    "print((str2[::-1] + \" \"+ str1[::-1]))"
   ]
  },
  {
   "cell_type": "code",
   "execution_count": 3,
   "id": "61e40049-2d1c-4189-a2b2-20554eaeb186",
   "metadata": {},
   "outputs": [],
   "source": [
    "#3\n",
    "# Write a Python program that takes an input number from the user,\n",
    "#converts it to different numeric data types (integer, float, and complex),\n",
    "#and displays the converted values."
   ]
  },
  {
   "cell_type": "code",
   "execution_count": 4,
   "id": "7bf5036b-2f19-474b-ae45-2bd2d5107134",
   "metadata": {},
   "outputs": [
    {
     "name": "stdin",
     "output_type": "stream",
     "text": [
      "Enter a number:  66\n"
     ]
    },
    {
     "name": "stdout",
     "output_type": "stream",
     "text": [
      "Integer: 66\n",
      "Float: 66.0\n",
      "Complex: (66+0j)\n"
     ]
    }
   ],
   "source": [
    "user_input = input(\"Enter a number: \")\n",
    "\n",
    "#whole numbers without any decimal point. They can be positive or negative.\n",
    "print(\"Integer:\", int(user_input))\n",
    "\n",
    "#numbers with a decimal point. They can also be positive or negative.\n",
    "print(\"Float:\", float(user_input))\n",
    "\n",
    "#These numbers have a real part and an imaginary part, denoted with a j suffix for the imaginary.\n",
    "print(\"Complex:\", complex(user_input))"
   ]
  },
  {
   "cell_type": "code",
   "execution_count": 5,
   "id": "320496db-48da-435b-add0-5620779c255c",
   "metadata": {},
   "outputs": [
    {
     "name": "stdin",
     "output_type": "stream",
     "text": [
      "Enter the lenght of rectangle :  12\n",
      "Enter the width of rectangle :  10\n"
     ]
    },
    {
     "name": "stdout",
     "output_type": "stream",
     "text": [
      "The area is 120.00\n"
     ]
    }
   ],
   "source": [
    "#4\n",
    "#Create a Python script that calculates the area of a rectangle.\n",
    "length=float(input(\"Enter the lenght of rectangle : \"))\n",
    "width=float(input(\"Enter the width of rectangle : \"))\n",
    "area=length*width\n",
    "# Modify the rectangle area program to format the output so that it displays the area with two decimal places.\n",
    "print(f\"The area is {area:.2f}\")"
   ]
  },
  {
   "cell_type": "code",
   "execution_count": 6,
   "id": "09d9c923-c7e1-461f-9735-6d4265f1f402",
   "metadata": {},
   "outputs": [
    {
     "name": "stdin",
     "output_type": "stream",
     "text": [
      "enter the first number : 55\n",
      "enter the second number : 41\n",
      "enter the third number : 97\n"
     ]
    },
    {
     "name": "stdout",
     "output_type": "stream",
     "text": [
      "The average of given number is 64.33\n"
     ]
    }
   ],
   "source": [
    "#5\n",
    "#Write a Python script that takes three numbers as input and\n",
    "#prints their average using the % method for string formatting\n",
    "num1=float(input(\"enter the first number :\"))\n",
    "\n",
    "num2=float(input(\"enter the second number :\"))\n",
    "\n",
    "num3=float(input(\"enter the third number :\"))\n",
    "\n",
    "avg=(num1+num2+num3)/3\n",
    "print(\"The average of given number is %.2f\" %avg)"
   ]
  },
  {
   "cell_type": "code",
   "execution_count": 7,
   "id": "524f5f00-091e-4b71-9b5d-f3eae50d7d34",
   "metadata": {},
   "outputs": [
    {
     "name": "stdin",
     "output_type": "stream",
     "text": [
      "Enter a number (or type 'exit' to quit):  45\n"
     ]
    },
    {
     "name": "stdout",
     "output_type": "stream",
     "text": [
      "45.0 is a positive number.\n"
     ]
    },
    {
     "name": "stdin",
     "output_type": "stream",
     "text": [
      "Enter a number (or type 'exit' to quit):  51\n"
     ]
    },
    {
     "name": "stdout",
     "output_type": "stream",
     "text": [
      "51.0 is a positive number.\n"
     ]
    },
    {
     "name": "stdin",
     "output_type": "stream",
     "text": [
      "Enter a number (or type 'exit' to quit):  99\n"
     ]
    },
    {
     "name": "stdout",
     "output_type": "stream",
     "text": [
      "99.0 is a positive number.\n"
     ]
    },
    {
     "name": "stdin",
     "output_type": "stream",
     "text": [
      "Enter a number (or type 'exit' to quit):  exit\n"
     ]
    }
   ],
   "source": [
    "#Write a Python program that asks the user for a number and determines whether it is positive, negative, or zero.\n",
    "#Implement a loop that continues to ask the user for a number until they enter 'exit'.\n",
    "#Use break to exit the loop and continue to prompt for a new number if the input is not 'exit'.\n",
    "\n",
    "while True:\n",
    "    user_input = input(\"Enter a number (or type 'exit' to quit): \")\n",
    "\n",
    "    if user_input.lower() == 'exit':\n",
    "        break\n",
    "\n",
    "    try:\n",
    "        num = float(user_input)\n",
    "        if num > 0:\n",
    "            print(f\"{num} is a positive number.\")\n",
    "        elif num < 0:\n",
    "            print(f\"{num} is a negative number.\")\n",
    "        else:\n",
    "            print(f\"{num} is zero.\")\n",
    "    except ValueError:\n",
    "        print(\"Invalid input. Please enter a number or type 'exit' to quit.\")\n",
    "        continue"
   ]
  },
  {
   "cell_type": "code",
   "execution_count": null,
   "id": "7888c9b8-e770-4147-afb9-54c76b8825e5",
   "metadata": {},
   "outputs": [],
   "source": []
  }
 ],
 "metadata": {
  "kernelspec": {
   "display_name": "Python 3 (ipykernel)",
   "language": "python",
   "name": "python3"
  },
  "language_info": {
   "codemirror_mode": {
    "name": "ipython",
    "version": 3
   },
   "file_extension": ".py",
   "mimetype": "text/x-python",
   "name": "python",
   "nbconvert_exporter": "python",
   "pygments_lexer": "ipython3",
   "version": "3.12.2"
  }
 },
 "nbformat": 4,
 "nbformat_minor": 5
}
