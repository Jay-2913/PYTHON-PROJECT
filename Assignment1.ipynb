{
 "cells": [
  {
   "cell_type": "code",
   "execution_count": 2,
   "id": "9ee13355-941f-42b7-b12d-fba7a16e127a",
   "metadata": {},
   "outputs": [
    {
     "name": "stdout",
     "output_type": "stream",
     "text": [
      "NAME:Jay Sharma\n",
      "BATCH:B5\n",
      "SAP ID:590018688\n",
      "I am using Python version 3.12.2 (tags/v3.12.2:6abddd9, Feb  6 2024, 21:26:36) [MSC v.1937 64 bit (AMD64)].\n"
     ]
    }
   ],
   "source": [
    "# Get the Python version\n",
    "import sys\n",
    "python_version = sys.version\n",
    "print(\"NAME:Jay Sharma\\nBATCH:B5\\nSAP ID:590018688\")\n",
    "print(f\"I am using Python version {python_version}.\")\n"
   ]
  },
  {
   "cell_type": "code",
   "execution_count": null,
   "id": "8c8f2bb7-adf2-408a-90c8-1e9ce5d5c54a",
   "metadata": {},
   "outputs": [],
   "source": []
  }
 ],
 "metadata": {
  "kernelspec": {
   "display_name": "Python 3 (ipykernel)",
   "language": "python",
   "name": "python3"
  },
  "language_info": {
   "codemirror_mode": {
    "name": "ipython",
    "version": 3
   },
   "file_extension": ".py",
   "mimetype": "text/x-python",
   "name": "python",
   "nbconvert_exporter": "python",
   "pygments_lexer": "ipython3",
   "version": "3.12.2"
  }
 },
 "nbformat": 4,
 "nbformat_minor": 5
}
