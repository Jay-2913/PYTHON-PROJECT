{
 "cells": [
  {
   "cell_type": "code",
   "execution_count": 2,
   "id": "9ee13355-941f-42b7-b12d-fba7a16e127a",
   "metadata": {},
   "outputs": [
    {
     "name": "stdout",
     "output_type": "stream",
     "text": [
      "NAME:Jay Sharma\n",
      "BATCH:B5\n",
      "SAP ID:590018688\n",
      "I am using Python version 3.12.2 (tags/v3.12.2:6abddd9, Feb  6 2024, 21:26:36) [MSC v.1937 64 bit (AMD64)].\n"
     ]
    }
   ],
   "source": [
    "# Get the Python version\n",
    "import sys\n",
    "python_version = sys.version\n",
    "print(\"NAME:Jay Sharma\\nBATCH:B5\\nSAP ID:590018688\")\n",
    "print(f\"I am using Python version {python_version}.\")\n"
   ]
  },
  {
   "cell_type": "code",
   "execution_count": 1,
   "id": "8c8f2bb7-adf2-408a-90c8-1e9ce5d5c54a",
   "metadata": {},
   "outputs": [],
   "source": [
    "#2\n",
    "#Write a Python program that takes a user's first and last name as input and \n",
    "#prints them in reverse order with a space between them."
   ]
  },
  {
   "cell_type": "code",
   "execution_count": 2,
   "id": "aaec1d82-cf33-475e-afac-ffbeef2426c9",
   "metadata": {},
   "outputs": [
    {
     "name": "stdin",
     "output_type": "stream",
     "text": [
      "enter the first name  Jay\n",
      "enter the second name  Sharma\n"
     ]
    },
    {
     "name": "stdout",
     "output_type": "stream",
     "text": [
      "amrahS yaJ\n"
     ]
    }
   ],
   "source": [
    "#Storing input from user in str1 and str2\n",
    "str1=input(\"enter the first name \")\n",
    "str2=input(\"enter the second name \")\n",
    "\n",
    "#Using slicing to reverse the input string\n",
    "print((str2[::-1] + \" \"+ str1[::-1]))"
   ]
  },
  {
   "cell_type": "code",
   "execution_count": null,
   "id": "61e40049-2d1c-4189-a2b2-20554eaeb186",
   "metadata": {},
   "outputs": [],
   "source": []
  }
 ],
 "metadata": {
  "kernelspec": {
   "display_name": "Python 3 (ipykernel)",
   "language": "python",
   "name": "python3"
  },
  "language_info": {
   "codemirror_mode": {
    "name": "ipython",
    "version": 3
   },
   "file_extension": ".py",
   "mimetype": "text/x-python",
   "name": "python",
   "nbconvert_exporter": "python",
   "pygments_lexer": "ipython3",
   "version": "3.12.2"
  }
 },
 "nbformat": 4,
 "nbformat_minor": 5
}
