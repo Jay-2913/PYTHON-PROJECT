{
  "nbformat": 4,
  "nbformat_minor": 0,
  "metadata": {
    "colab": {
      "provenance": [],
      "authorship_tag": "ABX9TyMe324eTF7/8WkB/dazkJe8",
      "include_colab_link": true
    },
    "kernelspec": {
      "name": "python3",
      "display_name": "Python 3"
    },
    "language_info": {
      "name": "python"
    }
  },
  "cells": [
    {
      "cell_type": "markdown",
      "metadata": {
        "id": "view-in-github",
        "colab_type": "text"
      },
      "source": [
        "<a href=\"https://colab.research.google.com/github/Rajatt-Chawla/Python-Programming/blob/main/Assignment_2.ipynb\" target=\"_parent\"><img src=\"https://colab.research.google.com/assets/colab-badge.svg\" alt=\"Open In Colab\"/></a>"
      ]
    },
    {
      "cell_type": "code",
      "execution_count": 1,
      "metadata": {
        "colab": {
          "base_uri": "https://localhost:8080/"
        },
        "id": "Eo5FPnip2C6q",
        "outputId": "791f641f-a493-48f8-8707-d1f943ead2b8"
      },
      "outputs": [
        {
          "output_type": "stream",
          "name": "stdout",
          "text": [
            "Hello Alice\n",
            "Good Morning Bob\n"
          ]
        }
      ],
      "source": [
        "#Write a function greet that takes two arguments: name (a string) and greeting (a string with a default value of \"Hello\"). The function should return a greeting message.\n",
        "def greet(name, greeting=\"Hello\"):\n",
        "    return f\"{greeting} {name}\"\n",
        "\n",
        "print(greet(\"Alice\"))\n",
        "print(greet(\"Bob\", \"Good Morning\"))"
      ]
    },
    {
      "cell_type": "code",
      "source": [
        "#Create a function create_profile that takes arguments for name, age, and city as named arguments. The function should return a string like \"Name: Alice, Age: 25, City: New York\". Ensure that the age argument has a default value of 18.\n",
        "def create_profile(name, city, age=18):\n",
        "    return f\"Name: {name}, Age: {age}, City: {city}\"\n",
        "\n",
        "print(create_profile(name=\"John\", city=\"Chicago\"))\n",
        "print(create_profile(name=\"Emma\", age=22, city=\"Los Angeles\"))\n",
        "\n"
      ],
      "metadata": {
        "colab": {
          "base_uri": "https://localhost:8080/"
        },
        "id": "f5rSvDTL2adp",
        "outputId": "bd164e7d-8f9b-4a8d-9a06-c0704622112f"
      },
      "execution_count": 2,
      "outputs": [
        {
          "output_type": "stream",
          "name": "stdout",
          "text": [
            "Name: John, Age: 18, City: Chicago\n",
            "Name: Emma, Age: 22, City: Los Angeles\n"
          ]
        }
      ]
    },
    {
      "cell_type": "code",
      "source": [
        "#Write a function sum_numbers that takes any number of positional arguments (args) and keyword arguments (*kwargs). It should:\n",
        "def sum_numbers(*args, **kwargs):\n",
        "    sum_args = sum(arg for arg in args if isinstance(arg, (int, float)))\n",
        "    return (sum_args, kwargs) if kwargs else sum_args\n",
        "\n",
        "print(sum_numbers(1, 2, 3))\n",
        "print(sum_numbers(1, 2, x=4, y=5))\n",
        "\n"
      ],
      "metadata": {
        "colab": {
          "base_uri": "https://localhost:8080/"
        },
        "id": "s3yurC2V2r7p",
        "outputId": "7efa8e01-e233-4c1f-ac1d-dd0c36699da6"
      },
      "execution_count": 3,
      "outputs": [
        {
          "output_type": "stream",
          "name": "stdout",
          "text": [
            "6\n",
            "(3, {'x': 4, 'y': 5})\n"
          ]
        }
      ]
    },
    {
      "cell_type": "code",
      "source": [
        "#Write a function that uses map and a lambda to return a list where each element is squared.\n",
        "def square_list(numbers):\n",
        "    return list(map(lambda x: x**2, numbers))\n",
        "\n",
        "print(square_list([1, 2, 3, 4]))\n",
        "\n"
      ],
      "metadata": {
        "colab": {
          "base_uri": "https://localhost:8080/"
        },
        "id": "j_45_TKp3KUz",
        "outputId": "b26371e0-8bd8-44ee-e734-35db74867ce1"
      },
      "execution_count": 4,
      "outputs": [
        {
          "output_type": "stream",
          "name": "stdout",
          "text": [
            "[1, 4, 9, 16]\n"
          ]
        }
      ]
    },
    {
      "cell_type": "code",
      "source": [
        "#Filter and Lambdas\n",
        "def filter_odd_numbers(numbers):\n",
        "    return list(filter(lambda x: x % 2 == 0, numbers))\n",
        "\n",
        "print(filter_odd_numbers([1, 2, 3, 4, 5]))\n",
        "\n"
      ],
      "metadata": {
        "colab": {
          "base_uri": "https://localhost:8080/"
        },
        "id": "zepeKuCp3TOI",
        "outputId": "669d2167-989f-4055-9d76-1d9e08e08e73"
      },
      "execution_count": 6,
      "outputs": [
        {
          "output_type": "stream",
          "name": "stdout",
          "text": [
            "[2, 4]\n"
          ]
        }
      ]
    },
    {
      "cell_type": "code",
      "source": [
        "#Basic List Comprehension\n",
        "squares = [x**2 for x in range(5)]\n",
        "print(squares)\n",
        "\n"
      ],
      "metadata": {
        "colab": {
          "base_uri": "https://localhost:8080/"
        },
        "id": "MCn57HUT3bTO",
        "outputId": "a3c98a16-ed1a-4f58-f849-a0171679c0de"
      },
      "execution_count": 7,
      "outputs": [
        {
          "output_type": "stream",
          "name": "stdout",
          "text": [
            "[0, 1, 4, 9, 16]\n"
          ]
        }
      ]
    },
    {
      "cell_type": "code",
      "source": [
        "#List Comprehension with Condition\n",
        "even_numbers = [x for x in range(1, 21) if x % 2 == 0]\n",
        "print(even_numbers)\n"
      ],
      "metadata": {
        "colab": {
          "base_uri": "https://localhost:8080/"
        },
        "id": "ofKi4-IC3hmF",
        "outputId": "3c88404b-3ee5-4822-9a47-ecdb490396b9"
      },
      "execution_count": 8,
      "outputs": [
        {
          "output_type": "stream",
          "name": "stdout",
          "text": [
            "[2, 4, 6, 8, 10, 12, 14, 16, 18, 20]\n"
          ]
        }
      ]
    },
    {
      "cell_type": "code",
      "source": [
        "#Using os and time Modules:\n",
        "import os\n",
        "import time\n",
        "\n",
        "def file_operations():\n",
        "    os.makedirs(\"test_folder\", exist_ok=True)\n",
        "    print(\"Created 'test_folder'\")\n",
        "\n",
        "    print(\"Pausing for 3 seconds...\")\n",
        "    time.sleep(3)\n",
        "\n",
        "    os.rmdir(\"test_folder\")\n",
        "    print(\"Deleted 'test_folder'\")\n",
        "\n",
        "file_operations()\n",
        "\n"
      ],
      "metadata": {
        "colab": {
          "base_uri": "https://localhost:8080/"
        },
        "id": "ZyprF9f03pY9",
        "outputId": "f4fbbcf8-3bb3-49da-91a4-433faa6a6a87"
      },
      "execution_count": 12,
      "outputs": [
        {
          "output_type": "stream",
          "name": "stdout",
          "text": [
            "Created 'test_folder'\n",
            "Pausing for 3 seconds...\n",
            "Deleted 'test_folder'\n"
          ]
        }
      ]
    },
    {
      "cell_type": "code",
      "source": [
        "#Importing Specific Functions:\n",
        "from time import sleep as pause\n",
        "\n",
        "pause(2)\n",
        "print(\"Paused execution...\")"
      ],
      "metadata": {
        "colab": {
          "base_uri": "https://localhost:8080/"
        },
        "id": "rtwY5UON4U_z",
        "outputId": "79c88b93-70bc-4351-befb-18924052093b"
      },
      "execution_count": 13,
      "outputs": [
        {
          "output_type": "stream",
          "name": "stdout",
          "text": [
            "Paused execution...\n"
          ]
        }
      ]
    },
    {
      "cell_type": "code",
      "source": [
        "#Recursive Function with *args and **kwargs (Flattening a List):\n",
        "def flatten_list(*args):\n",
        "    flat_list = []\n",
        "    for arg in args:\n",
        "        if isinstance(arg, (list, tuple)):\n",
        "            flat_list.extend(flatten_list(*arg))\n",
        "        else:\n",
        "            flat_list.append(arg)\n",
        "    return flat_list\n",
        "\n",
        "print(flatten_list([1, [2, 3], [[4, 5], 6]]))\n",
        "print(flatten_list([[1, 2], [3, [4, [5]]]]))\n"
      ],
      "metadata": {
        "colab": {
          "base_uri": "https://localhost:8080/"
        },
        "id": "ffwyKMuD4c9g",
        "outputId": "091ef3dd-4d3b-4fb9-9799-9d33c09884d5"
      },
      "execution_count": 14,
      "outputs": [
        {
          "output_type": "stream",
          "name": "stdout",
          "text": [
            "[1, 2, 3, 4, 5, 6]\n",
            "[1, 2, 3, 4, 5]\n"
          ]
        }
      ]
    }
  ]
}